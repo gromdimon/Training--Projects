{
  "nbformat": 4,
  "nbformat_minor": 0,
  "metadata": {
    "colab": {
      "name": "Cancer_cases.ipynb",
      "provenance": [],
      "collapsed_sections": [],
      "authorship_tag": "ABX9TyOkdJeo5jcvylVWUVPFWpkF",
      "include_colab_link": true
    },
    "kernelspec": {
      "name": "python3",
      "display_name": "Python 3"
    },
    "language_info": {
      "name": "python"
    }
  },
  "cells": [
    {
      "cell_type": "markdown",
      "metadata": {
        "id": "view-in-github",
        "colab_type": "text"
      },
      "source": [
        "<a href=\"https://colab.research.google.com/github/gromdimon/Training--Projects/blob/main/Cancer_cases.ipynb\" target=\"_parent\"><img src=\"https://colab.research.google.com/assets/colab-badge.svg\" alt=\"Open In Colab\"/></a>"
      ]
    },
    {
      "cell_type": "markdown",
      "metadata": {
        "id": "hu2zsBocjPb2"
      },
      "source": [
        "# Importing libraries and downloading dataset"
      ]
    },
    {
      "cell_type": "code",
      "metadata": {
        "id": "y2tzS8C3PyZE"
      },
      "source": [
        "import pandas as pd\n",
        "import numpy as np\n",
        "import matplotlib.pyplot as plt\n",
        "import seaborn as sns"
      ],
      "execution_count": 17,
      "outputs": []
    },
    {
      "cell_type": "code",
      "metadata": {
        "id": "FpLp62azQlqC"
      },
      "source": [
        "path = 'https://github.com/gromdimon/Files/raw/main/number-of-cancer-surgeries-volume-performed-in-california-hospitals.csv'\n",
        "df = pd.read_csv(path, encoding='cp1252')"
      ],
      "execution_count": 2,
      "outputs": []
    },
    {
      "cell_type": "code",
      "metadata": {
        "id": "7gLbf08zzdZ8"
      },
      "source": [
        "# Additional feature\n",
        "# Adding mean value to NaNs\n",
        "path = 'https://github.com/gromdimon/Files/raw/main/number-of-cancer-surgeries-volume-performed-in-california-hospitals.csv'\n",
        "df_1 = pd.read_csv(path, encoding='cp1252')\n",
        "from sklearn.impute import SimpleImputer\n",
        "imputer = SimpleImputer(strategy='mean')\n",
        "selection = ['# of Cases (ICD 10)', '# of Cases (ICD 9)']\n",
        "df_1[selection] = imputer.fit_transform(df_1[selection])\n",
        "df_1.tail(3)"
      ],
      "execution_count": 20,
      "outputs": []
    },
    {
      "cell_type": "code",
      "metadata": {
        "colab": {
          "base_uri": "https://localhost:8080/",
          "height": 141
        },
        "id": "iWixLWUf16uc",
        "outputId": "5b78c30d-ec92-4e94-e702-69e265e4e0f4"
      },
      "source": [
        "# Additional feature\n",
        "# Using KNN algorithm to form mean value only from relevant values\n",
        "path = 'https://github.com/gromdimon/Files/raw/main/number-of-cancer-surgeries-volume-performed-in-california-hospitals.csv'\n",
        "df_2 = pd.read_csv(path, encoding='cp1252')\n",
        "from sklearn.impute import KNNImputer\n",
        "imputer = KNNImputer()\n",
        "selection = ['# of Cases (ICD 10)', '# of Cases (ICD 9)', 'OSHPDID', 'LATITUDE', 'LONGITUDE']\n",
        "df_2[selection] = imputer.fit_transform(df_2[selection])\n",
        "df_2.head(3)"
      ],
      "execution_count": 29,
      "outputs": [
        {
          "output_type": "execute_result",
          "data": {
            "text/html": [
              "<div>\n",
              "<style scoped>\n",
              "    .dataframe tbody tr th:only-of-type {\n",
              "        vertical-align: middle;\n",
              "    }\n",
              "\n",
              "    .dataframe tbody tr th {\n",
              "        vertical-align: top;\n",
              "    }\n",
              "\n",
              "    .dataframe thead th {\n",
              "        text-align: right;\n",
              "    }\n",
              "</style>\n",
              "<table border=\"1\" class=\"dataframe\">\n",
              "  <thead>\n",
              "    <tr style=\"text-align: right;\">\n",
              "      <th></th>\n",
              "      <th>year</th>\n",
              "      <th>county</th>\n",
              "      <th>Hospital</th>\n",
              "      <th>OSHPDID</th>\n",
              "      <th>Surgery</th>\n",
              "      <th># of Cases (ICD 9)</th>\n",
              "      <th># of Cases (ICD 10)</th>\n",
              "      <th>LATITUDE</th>\n",
              "      <th>LONGITUDE</th>\n",
              "    </tr>\n",
              "  </thead>\n",
              "  <tbody>\n",
              "    <tr>\n",
              "      <th>0</th>\n",
              "      <td>2013</td>\n",
              "      <td>NaN</td>\n",
              "      <td>Statewide</td>\n",
              "      <td>106282885.0</td>\n",
              "      <td>COLON</td>\n",
              "      <td>7128.0</td>\n",
              "      <td>56.127708</td>\n",
              "      <td>34.567512</td>\n",
              "      <td>-118.959694</td>\n",
              "    </tr>\n",
              "    <tr>\n",
              "      <th>1</th>\n",
              "      <td>2013</td>\n",
              "      <td>NaN</td>\n",
              "      <td>Statewide</td>\n",
              "      <td>106282885.0</td>\n",
              "      <td>BLADDER</td>\n",
              "      <td>892.0</td>\n",
              "      <td>56.127708</td>\n",
              "      <td>34.567512</td>\n",
              "      <td>-118.959694</td>\n",
              "    </tr>\n",
              "    <tr>\n",
              "      <th>2</th>\n",
              "      <td>2013</td>\n",
              "      <td>NaN</td>\n",
              "      <td>Statewide</td>\n",
              "      <td>106282885.0</td>\n",
              "      <td>RECTUM</td>\n",
              "      <td>2128.0</td>\n",
              "      <td>56.127708</td>\n",
              "      <td>34.567512</td>\n",
              "      <td>-118.959694</td>\n",
              "    </tr>\n",
              "  </tbody>\n",
              "</table>\n",
              "</div>"
            ],
            "text/plain": [
              "   year county   Hospital  ...  # of Cases (ICD 10)   LATITUDE   LONGITUDE\n",
              "0  2013    NaN  Statewide  ...            56.127708  34.567512 -118.959694\n",
              "1  2013    NaN  Statewide  ...            56.127708  34.567512 -118.959694\n",
              "2  2013    NaN  Statewide  ...            56.127708  34.567512 -118.959694\n",
              "\n",
              "[3 rows x 9 columns]"
            ]
          },
          "metadata": {},
          "execution_count": 29
        }
      ]
    },
    {
      "cell_type": "markdown",
      "metadata": {
        "id": "EBvOfdINjG7H"
      },
      "source": [
        "# First look at data"
      ]
    },
    {
      "cell_type": "code",
      "metadata": {
        "colab": {
          "base_uri": "https://localhost:8080/"
        },
        "id": "1Xuw0vTSRIfh",
        "outputId": "880b185f-62c6-490a-c521-3b326192b9f6"
      },
      "source": [
        "df.info()"
      ],
      "execution_count": 4,
      "outputs": [
        {
          "output_type": "stream",
          "name": "stdout",
          "text": [
            "<class 'pandas.core.frame.DataFrame'>\n",
            "RangeIndex: 11821 entries, 0 to 11820\n",
            "Data columns (total 9 columns):\n",
            " #   Column               Non-Null Count  Dtype  \n",
            "---  ------               --------------  -----  \n",
            " 0   year                 11821 non-null  int64  \n",
            " 1   county               11755 non-null  object \n",
            " 2   Hospital             11821 non-null  object \n",
            " 3   OSHPDID              11755 non-null  float64\n",
            " 4   Surgery              11821 non-null  object \n",
            " 5   # of Cases (ICD 9)   5729 non-null   float64\n",
            " 6   # of Cases (ICD 10)  6092 non-null   float64\n",
            " 7   LATITUDE             11748 non-null  float64\n",
            " 8   LONGITUDE            11748 non-null  float64\n",
            "dtypes: float64(5), int64(1), object(3)\n",
            "memory usage: 831.3+ KB\n"
          ]
        }
      ]
    },
    {
      "cell_type": "code",
      "metadata": {
        "colab": {
          "base_uri": "https://localhost:8080/",
          "height": 873
        },
        "id": "lEx4Uqgqdue5",
        "outputId": "4daeb405-24f2-4eda-ce70-e9a2454833ff"
      },
      "source": [
        "df.hist(figsize=(12,12))\n",
        "plt.tight_layout()\n",
        "plt.show()"
      ],
      "execution_count": 30,
      "outputs": [
        {
          "output_type": "display_data",
          "data": {
            "image/png": "[encoded data removed]",
            "text/plain": [
              "<Figure size 864x864 with 6 Axes>"
            ]
          },
          "metadata": {
            "needs_background": "light"
          }
        }
      ]
    },
    {
      "cell_type": "code",
      "metadata": {
        "colab": {
          "base_uri": "https://localhost:8080/",
          "height": 294
        },
        "id": "6wGKnC68RNZj",
        "outputId": "c0614189-9493-4570-fa84-833a951bac3a"
      },
      "source": [
        "df.describe()"
      ],
      "execution_count": 6,
      "outputs": [
        {
          "output_type": "execute_result",
          "data": {
            "text/html": [
              "<div>\n",
              "<style scoped>\n",
              "    .dataframe tbody tr th:only-of-type {\n",
              "        vertical-align: middle;\n",
              "    }\n",
              "\n",
              "    .dataframe tbody tr th {\n",
              "        vertical-align: top;\n",
              "    }\n",
              "\n",
              "    .dataframe thead th {\n",
              "        text-align: right;\n",
              "    }\n",
              "</style>\n",
              "<table border=\"1\" class=\"dataframe\">\n",
              "  <thead>\n",
              "    <tr style=\"text-align: right;\">\n",
              "      <th></th>\n",
              "      <th>year</th>\n",
              "      <th>OSHPDID</th>\n",
              "      <th># of Cases (ICD 9)</th>\n",
              "      <th># of Cases (ICD 10)</th>\n",
              "      <th>LATITUDE</th>\n",
              "      <th>LONGITUDE</th>\n",
              "    </tr>\n",
              "  </thead>\n",
              "  <tbody>\n",
              "    <tr>\n",
              "      <th>count</th>\n",
              "      <td>11821.000000</td>\n",
              "      <td>1.175500e+04</td>\n",
              "      <td>5729.000000</td>\n",
              "      <td>6092.000000</td>\n",
              "      <td>11748.000000</td>\n",
              "      <td>11748.000000</td>\n",
              "    </tr>\n",
              "    <tr>\n",
              "      <th>mean</th>\n",
              "      <td>2015.523983</td>\n",
              "      <td>1.062823e+08</td>\n",
              "      <td>49.448769</td>\n",
              "      <td>56.127708</td>\n",
              "      <td>35.630675</td>\n",
              "      <td>-119.552318</td>\n",
              "    </tr>\n",
              "    <tr>\n",
              "      <th>std</th>\n",
              "      <td>1.709742</td>\n",
              "      <td>1.347787e+05</td>\n",
              "      <td>590.833097</td>\n",
              "      <td>680.657920</td>\n",
              "      <td>2.135230</td>\n",
              "      <td>2.020634</td>\n",
              "    </tr>\n",
              "    <tr>\n",
              "      <th>min</th>\n",
              "      <td>2013.000000</td>\n",
              "      <td>1.060107e+08</td>\n",
              "      <td>1.000000</td>\n",
              "      <td>1.000000</td>\n",
              "      <td>32.619090</td>\n",
              "      <td>-124.195140</td>\n",
              "    </tr>\n",
              "    <tr>\n",
              "      <th>25%</th>\n",
              "      <td>2014.000000</td>\n",
              "      <td>1.061904e+08</td>\n",
              "      <td>2.000000</td>\n",
              "      <td>2.000000</td>\n",
              "      <td>33.949170</td>\n",
              "      <td>-121.776854</td>\n",
              "    </tr>\n",
              "    <tr>\n",
              "      <th>50%</th>\n",
              "      <td>2016.000000</td>\n",
              "      <td>1.063013e+08</td>\n",
              "      <td>8.000000</td>\n",
              "      <td>8.000000</td>\n",
              "      <td>34.274589</td>\n",
              "      <td>-118.486230</td>\n",
              "    </tr>\n",
              "    <tr>\n",
              "      <th>75%</th>\n",
              "      <td>2017.000000</td>\n",
              "      <td>1.063713e+08</td>\n",
              "      <td>24.000000</td>\n",
              "      <td>27.000000</td>\n",
              "      <td>37.747990</td>\n",
              "      <td>-117.955240</td>\n",
              "    </tr>\n",
              "    <tr>\n",
              "      <th>max</th>\n",
              "      <td>2018.000000</td>\n",
              "      <td>1.065810e+08</td>\n",
              "      <td>25829.000000</td>\n",
              "      <td>29349.000000</td>\n",
              "      <td>41.772780</td>\n",
              "      <td>-114.595600</td>\n",
              "    </tr>\n",
              "  </tbody>\n",
              "</table>\n",
              "</div>"
            ],
            "text/plain": [
              "               year       OSHPDID  ...      LATITUDE     LONGITUDE\n",
              "count  11821.000000  1.175500e+04  ...  11748.000000  11748.000000\n",
              "mean    2015.523983  1.062823e+08  ...     35.630675   -119.552318\n",
              "std        1.709742  1.347787e+05  ...      2.135230      2.020634\n",
              "min     2013.000000  1.060107e+08  ...     32.619090   -124.195140\n",
              "25%     2014.000000  1.061904e+08  ...     33.949170   -121.776854\n",
              "50%     2016.000000  1.063013e+08  ...     34.274589   -118.486230\n",
              "75%     2017.000000  1.063713e+08  ...     37.747990   -117.955240\n",
              "max     2018.000000  1.065810e+08  ...     41.772780   -114.595600\n",
              "\n",
              "[8 rows x 6 columns]"
            ]
          },
          "metadata": {},
          "execution_count": 6
        }
      ]
    },
    {
      "cell_type": "markdown",
      "metadata": {
        "id": "dY0IdJbfi-S3"
      },
      "source": [
        "# Managing null values & duplicates"
      ]
    },
    {
      "cell_type": "code",
      "metadata": {
        "id": "RQJaZSGxRspJ"
      },
      "source": [
        "def check_missing_values_and_duplicates(dataframe):\n",
        "    if dataframe.isnull().sum().sum() > 0 or dataframe.isnull().sum().sum() > 0:\n",
        "        m_total = dataframe.isnull().sum().sort_values(ascending=False)\n",
        "        total = m_total[m_total > 0]\n",
        "\n",
        "        m_percent = dataframe.isnull().mean().sort_values(ascending=False)\n",
        "        percent = m_percent[m_percent > 0]\n",
        "\n",
        "        m_duplicates = dataframe.duplicated().sort_values(ascending=False)\n",
        "        duplicates = m_duplicates[m_duplicates > 0]\n",
        "\n",
        "        missing_data = pd.concat([total, percent, duplicates], axis=1, keys=['Total', 'Percent', 'Duplicates'])\n",
        "\n",
        "        print(f'Total and Percentage of NaN & Duplicates:\\n {missing_data}')\n",
        "    else:\n",
        "        print('No NaN or Duplicate found.')"
      ],
      "execution_count": 7,
      "outputs": []
    },
    {
      "cell_type": "code",
      "metadata": {
        "colab": {
          "base_uri": "https://localhost:8080/"
        },
        "id": "km3ZgBUQRyUD",
        "outputId": "fc587187-4c83-4bcb-fcc8-f5e637323654"
      },
      "source": [
        "check_missing_values_and_duplicates(df)"
      ],
      "execution_count": 8,
      "outputs": [
        {
          "output_type": "stream",
          "name": "stdout",
          "text": [
            "Total and Percentage of NaN & Duplicates:\n",
            "                      Total   Percent Duplicates\n",
            "# of Cases (ICD 9)    6092  0.515354        NaN\n",
            "# of Cases (ICD 10)   5729  0.484646        NaN\n",
            "LONGITUDE               73  0.006175        NaN\n",
            "LATITUDE                73  0.006175        NaN\n",
            "OSHPDID                 66  0.005583        NaN\n",
            "county                  66  0.005583        NaN\n"
          ]
        }
      ]
    },
    {
      "cell_type": "code",
      "metadata": {
        "id": "eThR33LykLHa"
      },
      "source": [
        "# Feature for making one column from two\n",
        "def cases(row):\n",
        "    if pd.isna(row['# of Cases (ICD 9)']):\n",
        "      return row['# of Cases (ICD 10)']\n",
        "    elif pd.isna(row['# of Cases (ICD 10)']):\n",
        "      return row['# of Cases (ICD 9)']"
      ],
      "execution_count": 9,
      "outputs": []
    },
    {
      "cell_type": "code",
      "metadata": {
        "colab": {
          "base_uri": "https://localhost:8080/",
          "height": 141
        },
        "id": "JLzfW0Wir96f",
        "outputId": "7ec4f39f-d1dd-4bf5-b095-ef6b348ce72f"
      },
      "source": [
        "df['cases'] = df.apply(lambda row: cases(row), axis=1)\n",
        "df.drop(columns=['# of Cases (ICD 9)', '# of Cases (ICD 10)'], inplace=True)\n",
        "df.head(3)"
      ],
      "execution_count": 10,
      "outputs": [
        {
          "output_type": "execute_result",
          "data": {
            "text/html": [
              "<div>\n",
              "<style scoped>\n",
              "    .dataframe tbody tr th:only-of-type {\n",
              "        vertical-align: middle;\n",
              "    }\n",
              "\n",
              "    .dataframe tbody tr th {\n",
              "        vertical-align: top;\n",
              "    }\n",
              "\n",
              "    .dataframe thead th {\n",
              "        text-align: right;\n",
              "    }\n",
              "</style>\n",
              "<table border=\"1\" class=\"dataframe\">\n",
              "  <thead>\n",
              "    <tr style=\"text-align: right;\">\n",
              "      <th></th>\n",
              "      <th>year</th>\n",
              "      <th>county</th>\n",
              "      <th>Hospital</th>\n",
              "      <th>OSHPDID</th>\n",
              "      <th>Surgery</th>\n",
              "      <th>LATITUDE</th>\n",
              "      <th>LONGITUDE</th>\n",
              "      <th>cases</th>\n",
              "    </tr>\n",
              "  </thead>\n",
              "  <tbody>\n",
              "    <tr>\n",
              "      <th>0</th>\n",
              "      <td>2013</td>\n",
              "      <td>NaN</td>\n",
              "      <td>Statewide</td>\n",
              "      <td>NaN</td>\n",
              "      <td>COLON</td>\n",
              "      <td>NaN</td>\n",
              "      <td>NaN</td>\n",
              "      <td>7128.0</td>\n",
              "    </tr>\n",
              "    <tr>\n",
              "      <th>1</th>\n",
              "      <td>2013</td>\n",
              "      <td>NaN</td>\n",
              "      <td>Statewide</td>\n",
              "      <td>NaN</td>\n",
              "      <td>BLADDER</td>\n",
              "      <td>NaN</td>\n",
              "      <td>NaN</td>\n",
              "      <td>892.0</td>\n",
              "    </tr>\n",
              "    <tr>\n",
              "      <th>2</th>\n",
              "      <td>2013</td>\n",
              "      <td>NaN</td>\n",
              "      <td>Statewide</td>\n",
              "      <td>NaN</td>\n",
              "      <td>RECTUM</td>\n",
              "      <td>NaN</td>\n",
              "      <td>NaN</td>\n",
              "      <td>2128.0</td>\n",
              "    </tr>\n",
              "  </tbody>\n",
              "</table>\n",
              "</div>"
            ],
            "text/plain": [
              "   year county   Hospital  OSHPDID  Surgery  LATITUDE  LONGITUDE   cases\n",
              "0  2013    NaN  Statewide      NaN    COLON       NaN        NaN  7128.0\n",
              "1  2013    NaN  Statewide      NaN  BLADDER       NaN        NaN   892.0\n",
              "2  2013    NaN  Statewide      NaN   RECTUM       NaN        NaN  2128.0"
            ]
          },
          "metadata": {},
          "execution_count": 10
        }
      ]
    },
    {
      "cell_type": "code",
      "metadata": {
        "colab": {
          "base_uri": "https://localhost:8080/"
        },
        "id": "G3d---I1nfRX",
        "outputId": "63ee77c9-172c-4f64-a612-16b5cbe34966"
      },
      "source": [
        "check_missing_values_and_duplicates(df)"
      ],
      "execution_count": 11,
      "outputs": [
        {
          "output_type": "stream",
          "name": "stdout",
          "text": [
            "Total and Percentage of NaN & Duplicates:\n",
            "            Total   Percent Duplicates\n",
            "LONGITUDE     73  0.006175        NaN\n",
            "LATITUDE      73  0.006175        NaN\n",
            "OSHPDID       66  0.005583        NaN\n",
            "county        66  0.005583        NaN\n"
          ]
        }
      ]
    },
    {
      "cell_type": "code",
      "metadata": {
        "id": "7jPj9txsyXrj"
      },
      "source": [
        "df.dropna(inplace=True)"
      ],
      "execution_count": 12,
      "outputs": []
    },
    {
      "cell_type": "code",
      "metadata": {
        "colab": {
          "base_uri": "https://localhost:8080/"
        },
        "id": "gK7hEgvTycV1",
        "outputId": "4b8458a0-ef7f-47c6-d6fe-74148462dd08"
      },
      "source": [
        "check_missing_values_and_duplicates(df)"
      ],
      "execution_count": 13,
      "outputs": [
        {
          "output_type": "stream",
          "name": "stdout",
          "text": [
            "No NaN or Duplicate found.\n"
          ]
        }
      ]
    },
    {
      "cell_type": "markdown",
      "metadata": {
        "id": "_qXC_VKIjtRD"
      },
      "source": [
        "# Managing outliers"
      ]
    },
    {
      "cell_type": "markdown",
      "metadata": {
        "id": "xNEB0WF0CsuC"
      },
      "source": [
        "## Visualising datafame to detect the outliers"
      ]
    },
    {
      "cell_type": "code",
      "metadata": {
        "id": "dxlDxxkgAjf3"
      },
      "source": [
        "selection = ['year', 'OSHPDID', 'LONGITUDE', 'cases']\n",
        "df_visual = df[selection]"
      ],
      "execution_count": 86,
      "outputs": []
    },
    {
      "cell_type": "code",
      "metadata": {
        "colab": {
          "base_uri": "https://localhost:8080/",
          "height": 334
        },
        "id": "gx2bGphxyWAE",
        "outputId": "a0814dc6-b036-4f6b-f914-c67caf39d5ed"
      },
      "source": [
        "plt.figure(figsize=(5,5))\n",
        "sns.histplot(data=df_visual['year'])\n",
        "plt.show()"
      ],
      "execution_count": 31,
      "outputs": [
        {
          "output_type": "display_data",
          "data": {
            "image/png": "[encoded data removed]",
            "text/plain": [
              "<Figure size 360x360 with 1 Axes>"
            ]
          },
          "metadata": {
            "needs_background": "light"
          }
        }
      ]
    },
    {
      "cell_type": "code",
      "metadata": {
        "colab": {
          "base_uri": "https://localhost:8080/",
          "height": 449
        },
        "id": "vF0On4_S3LmY",
        "outputId": "1436800c-2e8b-4eb2-c76a-ad5f63e01c93"
      },
      "source": [
        "plt.figure(figsize=(5,5))\n",
        "plt.style.use('fast')\n",
        "sns.jointplot(x=df_visual['LATITUDE'], y=df_visual['LONGITUDE'], kind='kde')\n",
        "plt.show()"
      ],
      "execution_count": 41,
      "outputs": [
        {
          "output_type": "display_data",
          "data": {
            "text/plain": [
              "<Figure size 360x360 with 0 Axes>"
            ]
          },
          "metadata": {}
        },
        {
          "output_type": "display_data",
          "data": {
            "image/png": "[encoded data removed]",
            "text/plain": [
              "<Figure size 432x432 with 3 Axes>"
            ]
          },
          "metadata": {}
        }
      ]
    },
    {
      "cell_type": "code",
      "metadata": {
        "colab": {
          "base_uri": "https://localhost:8080/",
          "height": 585
        },
        "id": "87g6U4m2BvFU",
        "outputId": "be591454-b48a-415b-e46f-f7267137d5e6"
      },
      "source": [
        "plt.figure(figsize=(4,4))\n",
        "sns.boxplot(x=df['year'], y=df['LONGITUDE'])\n",
        "plt.show()\n",
        "sns.boxplot(x=df['year'], y=df['LATITUDE'])\n",
        "plt.show()"
      ],
      "execution_count": 75,
      "outputs": [
        {
          "output_type": "display_data",
          "data": {
            "image/png": "[encoded data removed]",
            "text/plain": [
              "<Figure size 288x288 with 1 Axes>"
            ]
          },
          "metadata": {}
        },
        {
          "output_type": "display_data",
          "data": {
            "image/png": "[encoded data removed]",
            "text/plain": [
              "<Figure size 432x288 with 1 Axes>"
            ]
          },
          "metadata": {}
        }
      ]
    },
    {
      "cell_type": "code",
      "metadata": {
        "colab": {
          "base_uri": "https://localhost:8080/",
          "height": 386
        },
        "id": "7mkY_WoaHJho",
        "outputId": "62a1f1ec-7dbd-44f4-cebb-9e6846849aa5"
      },
      "source": [
        "df_labels = list(df_visual.columns)\n",
        "i = plt.figure(figsize=(15,30)) \n",
        "for var in df_labels: #plotting boxplot for each variable\n",
        "   plt.subplot(round(len(df_labels),0)/3+3,4,i)\n",
        "   plt.boxplot(df_visual[var],whis=5)\n",
        "   plt.title(var)\n",
        "   i+=plt.tight_layout()\n",
        "plt.show()"
      ],
      "execution_count": 89,
      "outputs": [
        {
          "output_type": "error",
          "ename": "TypeError",
          "evalue": "ignored",
          "traceback": [
            "\u001b[0;31m---------------------------------------------------------------------------\u001b[0m",
            "\u001b[0;31mTypeError\u001b[0m                                 Traceback (most recent call last)",
            "\u001b[0;32m<ipython-input-89-970a750b54db>\u001b[0m in \u001b[0;36m<module>\u001b[0;34m()\u001b[0m\n\u001b[1;32m      2\u001b[0m \u001b[0mi\u001b[0m \u001b[0;34m=\u001b[0m \u001b[0mplt\u001b[0m\u001b[0;34m.\u001b[0m\u001b[0mfigure\u001b[0m\u001b[0;34m(\u001b[0m\u001b[0mfigsize\u001b[0m\u001b[0;34m=\u001b[0m\u001b[0;34m(\u001b[0m\u001b[0;36m15\u001b[0m\u001b[0;34m,\u001b[0m\u001b[0;36m30\u001b[0m\u001b[0;34m)\u001b[0m\u001b[0;34m)\u001b[0m\u001b[0;34m\u001b[0m\u001b[0;34m\u001b[0m\u001b[0m\n\u001b[1;32m      3\u001b[0m \u001b[0;32mfor\u001b[0m \u001b[0mvar\u001b[0m \u001b[0;32min\u001b[0m \u001b[0mdf_labels\u001b[0m\u001b[0;34m:\u001b[0m \u001b[0;31m#plotting boxplot for each variable\u001b[0m\u001b[0;34m\u001b[0m\u001b[0;34m\u001b[0m\u001b[0m\n\u001b[0;32m----> 4\u001b[0;31m    \u001b[0mplt\u001b[0m\u001b[0;34m.\u001b[0m\u001b[0msubplot\u001b[0m\u001b[0;34m(\u001b[0m\u001b[0mround\u001b[0m\u001b[0;34m(\u001b[0m\u001b[0mlen\u001b[0m\u001b[0;34m(\u001b[0m\u001b[0mdf_labels\u001b[0m\u001b[0;34m)\u001b[0m\u001b[0;34m,\u001b[0m\u001b[0;36m0\u001b[0m\u001b[0;34m)\u001b[0m\u001b[0;34m/\u001b[0m\u001b[0;36m3\u001b[0m\u001b[0;34m+\u001b[0m\u001b[0;36m3\u001b[0m\u001b[0;34m,\u001b[0m\u001b[0;36m4\u001b[0m\u001b[0;34m,\u001b[0m\u001b[0mi\u001b[0m\u001b[0;34m)\u001b[0m\u001b[0;34m\u001b[0m\u001b[0;34m\u001b[0m\u001b[0m\n\u001b[0m\u001b[1;32m      5\u001b[0m    \u001b[0mplt\u001b[0m\u001b[0;34m.\u001b[0m\u001b[0mboxplot\u001b[0m\u001b[0;34m(\u001b[0m\u001b[0mdf_visual\u001b[0m\u001b[0;34m[\u001b[0m\u001b[0mvar\u001b[0m\u001b[0;34m]\u001b[0m\u001b[0;34m,\u001b[0m\u001b[0mwhis\u001b[0m\u001b[0;34m=\u001b[0m\u001b[0;36m5\u001b[0m\u001b[0;34m)\u001b[0m\u001b[0;34m\u001b[0m\u001b[0;34m\u001b[0m\u001b[0m\n\u001b[1;32m      6\u001b[0m    \u001b[0mplt\u001b[0m\u001b[0;34m.\u001b[0m\u001b[0mtitle\u001b[0m\u001b[0;34m(\u001b[0m\u001b[0mvar\u001b[0m\u001b[0;34m)\u001b[0m\u001b[0;34m\u001b[0m\u001b[0;34m\u001b[0m\u001b[0m\n",
            "\u001b[0;32m/usr/local/lib/python3.7/dist-packages/matplotlib/pyplot.py\u001b[0m in \u001b[0;36msubplot\u001b[0;34m(*args, **kwargs)\u001b[0m\n\u001b[1;32m   1028\u001b[0m \u001b[0;34m\u001b[0m\u001b[0m\n\u001b[1;32m   1029\u001b[0m     \u001b[0mfig\u001b[0m \u001b[0;34m=\u001b[0m \u001b[0mgcf\u001b[0m\u001b[0;34m(\u001b[0m\u001b[0;34m)\u001b[0m\u001b[0;34m\u001b[0m\u001b[0;34m\u001b[0m\u001b[0m\n\u001b[0;32m-> 1030\u001b[0;31m     \u001b[0ma\u001b[0m \u001b[0;34m=\u001b[0m \u001b[0mfig\u001b[0m\u001b[0;34m.\u001b[0m\u001b[0madd_subplot\u001b[0m\u001b[0;34m(\u001b[0m\u001b[0;34m*\u001b[0m\u001b[0margs\u001b[0m\u001b[0;34m,\u001b[0m \u001b[0;34m**\u001b[0m\u001b[0mkwargs\u001b[0m\u001b[0;34m)\u001b[0m\u001b[0;34m\u001b[0m\u001b[0;34m\u001b[0m\u001b[0m\n\u001b[0m\u001b[1;32m   1031\u001b[0m     \u001b[0mbbox\u001b[0m \u001b[0;34m=\u001b[0m \u001b[0ma\u001b[0m\u001b[0;34m.\u001b[0m\u001b[0mbbox\u001b[0m\u001b[0;34m\u001b[0m\u001b[0;34m\u001b[0m\u001b[0m\n\u001b[1;32m   1032\u001b[0m     \u001b[0mbyebye\u001b[0m \u001b[0;34m=\u001b[0m \u001b[0;34m[\u001b[0m\u001b[0;34m]\u001b[0m\u001b[0;34m\u001b[0m\u001b[0;34m\u001b[0m\u001b[0m\n",
            "\u001b[0;32m/usr/local/lib/python3.7/dist-packages/matplotlib/figure.py\u001b[0m in \u001b[0;36madd_subplot\u001b[0;34m(self, *args, **kwargs)\u001b[0m\n\u001b[1;32m   1417\u001b[0m                     \u001b[0mself\u001b[0m\u001b[0;34m.\u001b[0m\u001b[0m_axstack\u001b[0m\u001b[0;34m.\u001b[0m\u001b[0mremove\u001b[0m\u001b[0;34m(\u001b[0m\u001b[0max\u001b[0m\u001b[0;34m)\u001b[0m\u001b[0;34m\u001b[0m\u001b[0;34m\u001b[0m\u001b[0m\n\u001b[1;32m   1418\u001b[0m \u001b[0;34m\u001b[0m\u001b[0m\n\u001b[0;32m-> 1419\u001b[0;31m             \u001b[0ma\u001b[0m \u001b[0;34m=\u001b[0m \u001b[0msubplot_class_factory\u001b[0m\u001b[0;34m(\u001b[0m\u001b[0mprojection_class\u001b[0m\u001b[0;34m)\u001b[0m\u001b[0;34m(\u001b[0m\u001b[0mself\u001b[0m\u001b[0;34m,\u001b[0m \u001b[0;34m*\u001b[0m\u001b[0margs\u001b[0m\u001b[0;34m,\u001b[0m \u001b[0;34m**\u001b[0m\u001b[0mkwargs\u001b[0m\u001b[0;34m)\u001b[0m\u001b[0;34m\u001b[0m\u001b[0;34m\u001b[0m\u001b[0m\n\u001b[0m\u001b[1;32m   1420\u001b[0m \u001b[0;34m\u001b[0m\u001b[0m\n\u001b[1;32m   1421\u001b[0m         \u001b[0;32mreturn\u001b[0m \u001b[0mself\u001b[0m\u001b[0;34m.\u001b[0m\u001b[0m_add_axes_internal\u001b[0m\u001b[0;34m(\u001b[0m\u001b[0mkey\u001b[0m\u001b[0;34m,\u001b[0m \u001b[0ma\u001b[0m\u001b[0;34m)\u001b[0m\u001b[0;34m\u001b[0m\u001b[0;34m\u001b[0m\u001b[0m\n",
            "\u001b[0;32m/usr/local/lib/python3.7/dist-packages/matplotlib/axes/_subplots.py\u001b[0m in \u001b[0;36m__init__\u001b[0;34m(self, fig, *args, **kwargs)\u001b[0m\n\u001b[1;32m     62\u001b[0m                         figure=self.figure)[(num[0] - 1):num[1]]\n\u001b[1;32m     63\u001b[0m             \u001b[0;32melse\u001b[0m\u001b[0;34m:\u001b[0m\u001b[0;34m\u001b[0m\u001b[0;34m\u001b[0m\u001b[0m\n\u001b[0;32m---> 64\u001b[0;31m                 \u001b[0;32mif\u001b[0m \u001b[0mnum\u001b[0m \u001b[0;34m<\u001b[0m \u001b[0;36m1\u001b[0m \u001b[0;32mor\u001b[0m \u001b[0mnum\u001b[0m \u001b[0;34m>\u001b[0m \u001b[0mrows\u001b[0m\u001b[0;34m*\u001b[0m\u001b[0mcols\u001b[0m\u001b[0;34m:\u001b[0m\u001b[0;34m\u001b[0m\u001b[0;34m\u001b[0m\u001b[0m\n\u001b[0m\u001b[1;32m     65\u001b[0m                     raise ValueError(\n\u001b[1;32m     66\u001b[0m                         f\"num must be 1 <= num <= {rows*cols}, not {num}\")\n",
            "\u001b[0;31mTypeError\u001b[0m: '<' not supported between instances of 'Figure' and 'int'"
          ]
        },
        {
          "output_type": "display_data",
          "data": {
            "text/plain": [
              "<Figure size 1080x2160 with 0 Axes>"
            ]
          },
          "metadata": {}
        }
      ]
    },
    {
      "cell_type": "markdown",
      "metadata": {
        "id": "OmjUa0wiC715"
      },
      "source": [
        "## Finding anomaliese using prediction models"
      ]
    },
    {
      "cell_type": "code",
      "metadata": {
        "colab": {
          "base_uri": "https://localhost:8080/"
        },
        "id": "v5CCIdmMzkhj",
        "outputId": "0a70a2bc-0787-4da1-fdb2-e5c25c776a8b"
      },
      "source": [
        "# Anomaly detection using IsolationForest \n",
        "selection = ['year', 'OSHPDID', 'LONGITUDE', 'cases']\n",
        "df1 = df[selection]\n",
        "from sklearn.ensemble import IsolationForest\n",
        "identifier = IsolationForest().fit(df1)\n",
        "sum = 0\n",
        "for i in identifier.predict(df1):\n",
        "  if i > 0:\n",
        "    sum+=1\n",
        "print(sum)"
      ],
      "execution_count": 53,
      "outputs": [
        {
          "output_type": "stream",
          "name": "stdout",
          "text": [
            "7968\n"
          ]
        }
      ]
    },
    {
      "cell_type": "code",
      "metadata": {
        "colab": {
          "base_uri": "https://localhost:8080/"
        },
        "id": "rrEdY8Ed-jMD",
        "outputId": "e4b3ff52-516a-4e8d-c7e7-787c1707e907"
      },
      "source": [
        "# Anomaly detection using SVM\n",
        "selection = ['year', 'OSHPDID', 'LONGITUDE', 'cases']\n",
        "df1 = df[selection]\n",
        "from sklearn.svm import OneClassSVM\n",
        "identifier_1 = OneClassSVM().fit(df1)\n",
        "sum = 0\n",
        "for i in identifier_1.predict(df1):\n",
        "  if i > 0:\n",
        "    sum+=1\n",
        "print(sum)"
      ],
      "execution_count": 54,
      "outputs": [
        {
          "output_type": "stream",
          "name": "stdout",
          "text": [
            "5656\n"
          ]
        }
      ]
    },
    {
      "cell_type": "code",
      "metadata": {
        "colab": {
          "base_uri": "https://localhost:8080/"
        },
        "id": "ubcwhE63_XB1",
        "outputId": "f4bc27d5-3791-4ee8-9d26-f4b22fb4c310"
      },
      "source": [
        "# Anomaly detection using KNN method\n",
        "selection = ['year', 'OSHPDID', 'LONGITUDE', 'cases']\n",
        "df1 = df[selection]\n",
        "from sklearn.neighbors import LocalOutlierFactor\n",
        "model = LocalOutlierFactor(novelty=True).fit(df1)\n",
        "sum = 0\n",
        "for i in model.predict(df1):\n",
        "  if i > 0:\n",
        "    sum+=1\n",
        "print(sum)"
      ],
      "execution_count": 58,
      "outputs": [
        {
          "output_type": "stream",
          "name": "stdout",
          "text": [
            "9982\n"
          ]
        },
        {
          "output_type": "stream",
          "name": "stderr",
          "text": [
            "/usr/local/lib/python3.7/dist-packages/sklearn/base.py:446: UserWarning: X does not have valid feature names, but LocalOutlierFactor was fitted with feature names\n",
            "  \"X does not have valid feature names, but\"\n"
          ]
        }
      ]
    },
    {
      "cell_type": "markdown",
      "metadata": {
        "id": "zCviHWbJAVvT"
      },
      "source": [
        "# Applying features to columns"
      ]
    },
    {
      "cell_type": "code",
      "metadata": {
        "colab": {
          "base_uri": "https://localhost:8080/"
        },
        "id": "vsrQ4TW-AU-g",
        "outputId": "2df31d1b-9e9c-4dbf-d6fb-76fd10f4ebbd"
      },
      "source": [
        "df.info()"
      ],
      "execution_count": 66,
      "outputs": [
        {
          "output_type": "stream",
          "name": "stdout",
          "text": [
            "<class 'pandas.core.frame.DataFrame'>\n",
            "Int64Index: 11748 entries, 11 to 11820\n",
            "Data columns (total 8 columns):\n",
            " #   Column     Non-Null Count  Dtype  \n",
            "---  ------     --------------  -----  \n",
            " 0   year       11748 non-null  int64  \n",
            " 1   county     11748 non-null  object \n",
            " 2   Hospital   11748 non-null  object \n",
            " 3   OSHPDID    11748 non-null  float64\n",
            " 4   Surgery    11748 non-null  object \n",
            " 5   LATITUDE   11748 non-null  float64\n",
            " 6   LONGITUDE  11748 non-null  float64\n",
            " 7   cases      11748 non-null  float64\n",
            "dtypes: float64(4), int64(1), object(3)\n",
            "memory usage: 1.1+ MB\n"
          ]
        }
      ]
    },
    {
      "cell_type": "code",
      "metadata": {
        "colab": {
          "base_uri": "https://localhost:8080/"
        },
        "id": "LA3Fib7ZBGiW",
        "outputId": "61127778-ddac-49bc-f1a9-437b9f901093"
      },
      "source": [
        "df['county'].value_counts()"
      ],
      "execution_count": 69,
      "outputs": [
        {
          "output_type": "execute_result",
          "data": {
            "text/plain": [
              "Los Angeles        3287\n",
              "Orange              871\n",
              "San Diego           757\n",
              "Riverside           609\n",
              "San Bernardino      535\n",
              "Alameda             507\n",
              "Santa Clara         482\n",
              "Sacramento          410\n",
              "San Francisco       375\n",
              "Contra Costa        296\n",
              "San Mateo           278\n",
              "Ventura             276\n",
              "Kern                260\n",
              "San Joaquin         253\n",
              "Fresno              235\n",
              "Stanislaus          171\n",
              "Solano              157\n",
              "Sonoma              154\n",
              "San Luis Obispo     149\n",
              "Placer              141\n",
              "Monterey            136\n",
              "Santa Barbara       135\n",
              "Butte               120\n",
              "Humboldt             99\n",
              "Marin                96\n",
              "Tulare               90\n",
              "Napa                 86\n",
              "Shasta               84\n",
              "Santa Cruz           74\n",
              "El Dorado            58\n",
              "Imperial             54\n",
              "Yolo                 52\n",
              "Yuba                 49\n",
              "Nevada               48\n",
              "Mendocino            47\n",
              "Kings                41\n",
              "Merced               33\n",
              "Siskiyou             31\n",
              "Lake                 28\n",
              "Tuolumne             23\n",
              "Sutter               21\n",
              "Madera               20\n",
              "Tehama               19\n",
              "Amador               16\n",
              "Inyo                 16\n",
              "San Benito           15\n",
              "Plumas               15\n",
              "Calaveras            14\n",
              "Del Norte            14\n",
              "Trinity               4\n",
              "Lassen                3\n",
              "Mono                  3\n",
              "Colusa                1\n",
              "Name: county, dtype: int64"
            ]
          },
          "metadata": {},
          "execution_count": 69
        }
      ]
    },
    {
      "cell_type": "code",
      "metadata": {
        "colab": {
          "base_uri": "https://localhost:8080/"
        },
        "id": "FHg6CB0rBZ8V",
        "outputId": "96ff6717-bc6d-4fa7-9345-389e2c43a5e8"
      },
      "source": [
        "df['Hospital'].value_counts()"
      ],
      "execution_count": 70,
      "outputs": [
        {
          "output_type": "execute_result",
          "data": {
            "text/plain": [
              "Hoag Memorial Hospital Presbyterian                       66\n",
              "Huntington Memorial Hospital                              66\n",
              "Loma Linda University Medical Center                      66\n",
              "Kaiser Foundation Hospital – San Diego                    66\n",
              "Keck Hospital of University of Southern California        66\n",
              "                                                          ..\n",
              "Monrovia Medical Center                                    1\n",
              "George L. Mee Memorial Hospital                            1\n",
              "Promise Hospital of East Los Angeles – Suburban Campus     1\n",
              "Anaheim General Hospital                                   1\n",
              "Vibra Hospital of San Diego                                1\n",
              "Name: Hospital, Length: 342, dtype: int64"
            ]
          },
          "metadata": {},
          "execution_count": 70
        }
      ]
    },
    {
      "cell_type": "code",
      "metadata": {
        "colab": {
          "base_uri": "https://localhost:8080/"
        },
        "id": "-e5F8glPBiob",
        "outputId": "e2f21a37-d321-4ee3-a245-fa29e6d70e8a"
      },
      "source": [
        "df['Surgery'].value_counts()"
      ],
      "execution_count": 71,
      "outputs": [
        {
          "output_type": "execute_result",
          "data": {
            "text/plain": [
              "COLON        884\n",
              "BREAST       875\n",
              "Colon        867\n",
              "Breast       849\n",
              "Rectum       771\n",
              "RECTUM       707\n",
              "Prostate     604\n",
              "STOMACH      564\n",
              "LUNG         561\n",
              "Stomach      556\n",
              "Lung         508\n",
              "PROSTATE     490\n",
              "Liver        483\n",
              "BRAIN        417\n",
              "Brain        413\n",
              "Pancreas     388\n",
              "Bladder      373\n",
              "BLADDER      356\n",
              "LIVER        309\n",
              "PANCREAS     302\n",
              "Esophagus    240\n",
              "ESOPHAGUS    231\n",
              "Name: Surgery, dtype: int64"
            ]
          },
          "metadata": {},
          "execution_count": 71
        }
      ]
    },
    {
      "cell_type": "markdown",
      "metadata": {
        "id": "XxtZU1ZODLKB"
      },
      "source": [
        "In this dataframe there are too many values in object columns, that's why it only make sense to use dummies feature."
      ]
    },
    {
      "cell_type": "code",
      "metadata": {
        "colab": {
          "base_uri": "https://localhost:8080/",
          "height": 435
        },
        "id": "hCr0DDW8ECf-",
        "outputId": "e5fcab7e-f0f9-48a7-caf2-cc6df60d042c"
      },
      "source": [
        "df_surgery = pd.get_dummies(df['Surgery'])\n",
        "df_surgery"
      ],
      "execution_count": 78,
      "outputs": [
        {
          "output_type": "execute_result",
          "data": {
            "text/html": [
              "<div>\n",
              "<style scoped>\n",
              "    .dataframe tbody tr th:only-of-type {\n",
              "        vertical-align: middle;\n",
              "    }\n",
              "\n",
              "    .dataframe tbody tr th {\n",
              "        vertical-align: top;\n",
              "    }\n",
              "\n",
              "    .dataframe thead th {\n",
              "        text-align: right;\n",
              "    }\n",
              "</style>\n",
              "<table border=\"1\" class=\"dataframe\">\n",
              "  <thead>\n",
              "    <tr style=\"text-align: right;\">\n",
              "      <th></th>\n",
              "      <th>BLADDER</th>\n",
              "      <th>BRAIN</th>\n",
              "      <th>BREAST</th>\n",
              "      <th>Bladder</th>\n",
              "      <th>Brain</th>\n",
              "      <th>Breast</th>\n",
              "      <th>COLON</th>\n",
              "      <th>Colon</th>\n",
              "      <th>ESOPHAGUS</th>\n",
              "      <th>Esophagus</th>\n",
              "      <th>LIVER</th>\n",
              "      <th>LUNG</th>\n",
              "      <th>Liver</th>\n",
              "      <th>Lung</th>\n",
              "      <th>PANCREAS</th>\n",
              "      <th>PROSTATE</th>\n",
              "      <th>Pancreas</th>\n",
              "      <th>Prostate</th>\n",
              "      <th>RECTUM</th>\n",
              "      <th>Rectum</th>\n",
              "      <th>STOMACH</th>\n",
              "      <th>Stomach</th>\n",
              "    </tr>\n",
              "  </thead>\n",
              "  <tbody>\n",
              "    <tr>\n",
              "      <th>11</th>\n",
              "      <td>0</td>\n",
              "      <td>0</td>\n",
              "      <td>0</td>\n",
              "      <td>0</td>\n",
              "      <td>0</td>\n",
              "      <td>0</td>\n",
              "      <td>0</td>\n",
              "      <td>0</td>\n",
              "      <td>0</td>\n",
              "      <td>0</td>\n",
              "      <td>0</td>\n",
              "      <td>0</td>\n",
              "      <td>0</td>\n",
              "      <td>0</td>\n",
              "      <td>0</td>\n",
              "      <td>0</td>\n",
              "      <td>0</td>\n",
              "      <td>0</td>\n",
              "      <td>0</td>\n",
              "      <td>0</td>\n",
              "      <td>1</td>\n",
              "      <td>0</td>\n",
              "    </tr>\n",
              "    <tr>\n",
              "      <th>12</th>\n",
              "      <td>0</td>\n",
              "      <td>0</td>\n",
              "      <td>0</td>\n",
              "      <td>0</td>\n",
              "      <td>0</td>\n",
              "      <td>0</td>\n",
              "      <td>1</td>\n",
              "      <td>0</td>\n",
              "      <td>0</td>\n",
              "      <td>0</td>\n",
              "      <td>0</td>\n",
              "      <td>0</td>\n",
              "      <td>0</td>\n",
              "      <td>0</td>\n",
              "      <td>0</td>\n",
              "      <td>0</td>\n",
              "      <td>0</td>\n",
              "      <td>0</td>\n",
              "      <td>0</td>\n",
              "      <td>0</td>\n",
              "      <td>0</td>\n",
              "      <td>0</td>\n",
              "    </tr>\n",
              "    <tr>\n",
              "      <th>13</th>\n",
              "      <td>0</td>\n",
              "      <td>0</td>\n",
              "      <td>1</td>\n",
              "      <td>0</td>\n",
              "      <td>0</td>\n",
              "      <td>0</td>\n",
              "      <td>0</td>\n",
              "      <td>0</td>\n",
              "      <td>0</td>\n",
              "      <td>0</td>\n",
              "      <td>0</td>\n",
              "      <td>0</td>\n",
              "      <td>0</td>\n",
              "      <td>0</td>\n",
              "      <td>0</td>\n",
              "      <td>0</td>\n",
              "      <td>0</td>\n",
              "      <td>0</td>\n",
              "      <td>0</td>\n",
              "      <td>0</td>\n",
              "      <td>0</td>\n",
              "      <td>0</td>\n",
              "    </tr>\n",
              "    <tr>\n",
              "      <th>14</th>\n",
              "      <td>0</td>\n",
              "      <td>1</td>\n",
              "      <td>0</td>\n",
              "      <td>0</td>\n",
              "      <td>0</td>\n",
              "      <td>0</td>\n",
              "      <td>0</td>\n",
              "      <td>0</td>\n",
              "      <td>0</td>\n",
              "      <td>0</td>\n",
              "      <td>0</td>\n",
              "      <td>0</td>\n",
              "      <td>0</td>\n",
              "      <td>0</td>\n",
              "      <td>0</td>\n",
              "      <td>0</td>\n",
              "      <td>0</td>\n",
              "      <td>0</td>\n",
              "      <td>0</td>\n",
              "      <td>0</td>\n",
              "      <td>0</td>\n",
              "      <td>0</td>\n",
              "    </tr>\n",
              "    <tr>\n",
              "      <th>15</th>\n",
              "      <td>0</td>\n",
              "      <td>0</td>\n",
              "      <td>0</td>\n",
              "      <td>0</td>\n",
              "      <td>0</td>\n",
              "      <td>0</td>\n",
              "      <td>1</td>\n",
              "      <td>0</td>\n",
              "      <td>0</td>\n",
              "      <td>0</td>\n",
              "      <td>0</td>\n",
              "      <td>0</td>\n",
              "      <td>0</td>\n",
              "      <td>0</td>\n",
              "      <td>0</td>\n",
              "      <td>0</td>\n",
              "      <td>0</td>\n",
              "      <td>0</td>\n",
              "      <td>0</td>\n",
              "      <td>0</td>\n",
              "      <td>0</td>\n",
              "      <td>0</td>\n",
              "    </tr>\n",
              "    <tr>\n",
              "      <th>...</th>\n",
              "      <td>...</td>\n",
              "      <td>...</td>\n",
              "      <td>...</td>\n",
              "      <td>...</td>\n",
              "      <td>...</td>\n",
              "      <td>...</td>\n",
              "      <td>...</td>\n",
              "      <td>...</td>\n",
              "      <td>...</td>\n",
              "      <td>...</td>\n",
              "      <td>...</td>\n",
              "      <td>...</td>\n",
              "      <td>...</td>\n",
              "      <td>...</td>\n",
              "      <td>...</td>\n",
              "      <td>...</td>\n",
              "      <td>...</td>\n",
              "      <td>...</td>\n",
              "      <td>...</td>\n",
              "      <td>...</td>\n",
              "      <td>...</td>\n",
              "      <td>...</td>\n",
              "    </tr>\n",
              "    <tr>\n",
              "      <th>11816</th>\n",
              "      <td>0</td>\n",
              "      <td>0</td>\n",
              "      <td>0</td>\n",
              "      <td>0</td>\n",
              "      <td>0</td>\n",
              "      <td>0</td>\n",
              "      <td>0</td>\n",
              "      <td>0</td>\n",
              "      <td>0</td>\n",
              "      <td>0</td>\n",
              "      <td>0</td>\n",
              "      <td>0</td>\n",
              "      <td>0</td>\n",
              "      <td>0</td>\n",
              "      <td>0</td>\n",
              "      <td>0</td>\n",
              "      <td>0</td>\n",
              "      <td>0</td>\n",
              "      <td>0</td>\n",
              "      <td>1</td>\n",
              "      <td>0</td>\n",
              "      <td>0</td>\n",
              "    </tr>\n",
              "    <tr>\n",
              "      <th>11817</th>\n",
              "      <td>0</td>\n",
              "      <td>0</td>\n",
              "      <td>0</td>\n",
              "      <td>0</td>\n",
              "      <td>0</td>\n",
              "      <td>0</td>\n",
              "      <td>0</td>\n",
              "      <td>0</td>\n",
              "      <td>0</td>\n",
              "      <td>0</td>\n",
              "      <td>0</td>\n",
              "      <td>0</td>\n",
              "      <td>0</td>\n",
              "      <td>0</td>\n",
              "      <td>0</td>\n",
              "      <td>0</td>\n",
              "      <td>0</td>\n",
              "      <td>1</td>\n",
              "      <td>0</td>\n",
              "      <td>0</td>\n",
              "      <td>0</td>\n",
              "      <td>0</td>\n",
              "    </tr>\n",
              "    <tr>\n",
              "      <th>11818</th>\n",
              "      <td>0</td>\n",
              "      <td>0</td>\n",
              "      <td>0</td>\n",
              "      <td>0</td>\n",
              "      <td>0</td>\n",
              "      <td>0</td>\n",
              "      <td>0</td>\n",
              "      <td>0</td>\n",
              "      <td>0</td>\n",
              "      <td>0</td>\n",
              "      <td>0</td>\n",
              "      <td>0</td>\n",
              "      <td>0</td>\n",
              "      <td>1</td>\n",
              "      <td>0</td>\n",
              "      <td>0</td>\n",
              "      <td>0</td>\n",
              "      <td>0</td>\n",
              "      <td>0</td>\n",
              "      <td>0</td>\n",
              "      <td>0</td>\n",
              "      <td>0</td>\n",
              "    </tr>\n",
              "    <tr>\n",
              "      <th>11819</th>\n",
              "      <td>0</td>\n",
              "      <td>0</td>\n",
              "      <td>0</td>\n",
              "      <td>0</td>\n",
              "      <td>0</td>\n",
              "      <td>0</td>\n",
              "      <td>0</td>\n",
              "      <td>1</td>\n",
              "      <td>0</td>\n",
              "      <td>0</td>\n",
              "      <td>0</td>\n",
              "      <td>0</td>\n",
              "      <td>0</td>\n",
              "      <td>0</td>\n",
              "      <td>0</td>\n",
              "      <td>0</td>\n",
              "      <td>0</td>\n",
              "      <td>0</td>\n",
              "      <td>0</td>\n",
              "      <td>0</td>\n",
              "      <td>0</td>\n",
              "      <td>0</td>\n",
              "    </tr>\n",
              "    <tr>\n",
              "      <th>11820</th>\n",
              "      <td>0</td>\n",
              "      <td>0</td>\n",
              "      <td>0</td>\n",
              "      <td>0</td>\n",
              "      <td>0</td>\n",
              "      <td>1</td>\n",
              "      <td>0</td>\n",
              "      <td>0</td>\n",
              "      <td>0</td>\n",
              "      <td>0</td>\n",
              "      <td>0</td>\n",
              "      <td>0</td>\n",
              "      <td>0</td>\n",
              "      <td>0</td>\n",
              "      <td>0</td>\n",
              "      <td>0</td>\n",
              "      <td>0</td>\n",
              "      <td>0</td>\n",
              "      <td>0</td>\n",
              "      <td>0</td>\n",
              "      <td>0</td>\n",
              "      <td>0</td>\n",
              "    </tr>\n",
              "  </tbody>\n",
              "</table>\n",
              "<p>11748 rows × 22 columns</p>\n",
              "</div>"
            ],
            "text/plain": [
              "       BLADDER  BRAIN  BREAST  Bladder  ...  RECTUM  Rectum  STOMACH  Stomach\n",
              "11           0      0       0        0  ...       0       0        1        0\n",
              "12           0      0       0        0  ...       0       0        0        0\n",
              "13           0      0       1        0  ...       0       0        0        0\n",
              "14           0      1       0        0  ...       0       0        0        0\n",
              "15           0      0       0        0  ...       0       0        0        0\n",
              "...        ...    ...     ...      ...  ...     ...     ...      ...      ...\n",
              "11816        0      0       0        0  ...       0       1        0        0\n",
              "11817        0      0       0        0  ...       0       0        0        0\n",
              "11818        0      0       0        0  ...       0       0        0        0\n",
              "11819        0      0       0        0  ...       0       0        0        0\n",
              "11820        0      0       0        0  ...       0       0        0        0\n",
              "\n",
              "[11748 rows x 22 columns]"
            ]
          },
          "metadata": {},
          "execution_count": 78
        }
      ]
    },
    {
      "cell_type": "code",
      "metadata": {
        "colab": {
          "base_uri": "https://localhost:8080/",
          "height": 211
        },
        "id": "VaGGB4V0Egof",
        "outputId": "ad510e36-38ab-4ac8-c43b-3c8553da4971"
      },
      "source": [
        "df_1 = pd.concat([df, df_surgery], axis=1)\n",
        "df_1.drop(columns='Surgery')\n",
        "df_1.head(3)"
      ],
      "execution_count": 83,
      "outputs": [
        {
          "output_type": "execute_result",
          "data": {
            "text/html": [
              "<div>\n",
              "<style scoped>\n",
              "    .dataframe tbody tr th:only-of-type {\n",
              "        vertical-align: middle;\n",
              "    }\n",
              "\n",
              "    .dataframe tbody tr th {\n",
              "        vertical-align: top;\n",
              "    }\n",
              "\n",
              "    .dataframe thead th {\n",
              "        text-align: right;\n",
              "    }\n",
              "</style>\n",
              "<table border=\"1\" class=\"dataframe\">\n",
              "  <thead>\n",
              "    <tr style=\"text-align: right;\">\n",
              "      <th></th>\n",
              "      <th>year</th>\n",
              "      <th>county</th>\n",
              "      <th>Hospital</th>\n",
              "      <th>OSHPDID</th>\n",
              "      <th>Surgery</th>\n",
              "      <th>LATITUDE</th>\n",
              "      <th>LONGITUDE</th>\n",
              "      <th>cases</th>\n",
              "      <th>BLADDER</th>\n",
              "      <th>BRAIN</th>\n",
              "      <th>BREAST</th>\n",
              "      <th>Bladder</th>\n",
              "      <th>Brain</th>\n",
              "      <th>Breast</th>\n",
              "      <th>COLON</th>\n",
              "      <th>Colon</th>\n",
              "      <th>ESOPHAGUS</th>\n",
              "      <th>Esophagus</th>\n",
              "      <th>LIVER</th>\n",
              "      <th>LUNG</th>\n",
              "      <th>Liver</th>\n",
              "      <th>Lung</th>\n",
              "      <th>PANCREAS</th>\n",
              "      <th>PROSTATE</th>\n",
              "      <th>Pancreas</th>\n",
              "      <th>Prostate</th>\n",
              "      <th>RECTUM</th>\n",
              "      <th>Rectum</th>\n",
              "      <th>STOMACH</th>\n",
              "      <th>Stomach</th>\n",
              "    </tr>\n",
              "  </thead>\n",
              "  <tbody>\n",
              "    <tr>\n",
              "      <th>11</th>\n",
              "      <td>2013</td>\n",
              "      <td>Alameda</td>\n",
              "      <td>Alameda Hospital</td>\n",
              "      <td>106010735.0</td>\n",
              "      <td>STOMACH</td>\n",
              "      <td>37.762953</td>\n",
              "      <td>-122.25362</td>\n",
              "      <td>1.0</td>\n",
              "      <td>0</td>\n",
              "      <td>0</td>\n",
              "      <td>0</td>\n",
              "      <td>0</td>\n",
              "      <td>0</td>\n",
              "      <td>0</td>\n",
              "      <td>0</td>\n",
              "      <td>0</td>\n",
              "      <td>0</td>\n",
              "      <td>0</td>\n",
              "      <td>0</td>\n",
              "      <td>0</td>\n",
              "      <td>0</td>\n",
              "      <td>0</td>\n",
              "      <td>0</td>\n",
              "      <td>0</td>\n",
              "      <td>0</td>\n",
              "      <td>0</td>\n",
              "      <td>0</td>\n",
              "      <td>0</td>\n",
              "      <td>1</td>\n",
              "      <td>0</td>\n",
              "    </tr>\n",
              "    <tr>\n",
              "      <th>12</th>\n",
              "      <td>2013</td>\n",
              "      <td>Alameda</td>\n",
              "      <td>Alameda Hospital</td>\n",
              "      <td>106010735.0</td>\n",
              "      <td>COLON</td>\n",
              "      <td>37.762953</td>\n",
              "      <td>-122.25362</td>\n",
              "      <td>3.0</td>\n",
              "      <td>0</td>\n",
              "      <td>0</td>\n",
              "      <td>0</td>\n",
              "      <td>0</td>\n",
              "      <td>0</td>\n",
              "      <td>0</td>\n",
              "      <td>1</td>\n",
              "      <td>0</td>\n",
              "      <td>0</td>\n",
              "      <td>0</td>\n",
              "      <td>0</td>\n",
              "      <td>0</td>\n",
              "      <td>0</td>\n",
              "      <td>0</td>\n",
              "      <td>0</td>\n",
              "      <td>0</td>\n",
              "      <td>0</td>\n",
              "      <td>0</td>\n",
              "      <td>0</td>\n",
              "      <td>0</td>\n",
              "      <td>0</td>\n",
              "      <td>0</td>\n",
              "    </tr>\n",
              "    <tr>\n",
              "      <th>13</th>\n",
              "      <td>2013</td>\n",
              "      <td>Alameda</td>\n",
              "      <td>Alameda Hospital</td>\n",
              "      <td>106010735.0</td>\n",
              "      <td>BREAST</td>\n",
              "      <td>37.762953</td>\n",
              "      <td>-122.25362</td>\n",
              "      <td>2.0</td>\n",
              "      <td>0</td>\n",
              "      <td>0</td>\n",
              "      <td>1</td>\n",
              "      <td>0</td>\n",
              "      <td>0</td>\n",
              "      <td>0</td>\n",
              "      <td>0</td>\n",
              "      <td>0</td>\n",
              "      <td>0</td>\n",
              "      <td>0</td>\n",
              "      <td>0</td>\n",
              "      <td>0</td>\n",
              "      <td>0</td>\n",
              "      <td>0</td>\n",
              "      <td>0</td>\n",
              "      <td>0</td>\n",
              "      <td>0</td>\n",
              "      <td>0</td>\n",
              "      <td>0</td>\n",
              "      <td>0</td>\n",
              "      <td>0</td>\n",
              "      <td>0</td>\n",
              "    </tr>\n",
              "  </tbody>\n",
              "</table>\n",
              "</div>"
            ],
            "text/plain": [
              "    year   county          Hospital  ...  Rectum STOMACH  Stomach\n",
              "11  2013  Alameda  Alameda Hospital  ...       0       1        0\n",
              "12  2013  Alameda  Alameda Hospital  ...       0       0        0\n",
              "13  2013  Alameda  Alameda Hospital  ...       0       0        0\n",
              "\n",
              "[3 rows x 30 columns]"
            ]
          },
          "metadata": {},
          "execution_count": 83
        }
      ]
    },
    {
      "cell_type": "code",
      "metadata": {
        "colab": {
          "base_uri": "https://localhost:8080/",
          "height": 211
        },
        "id": "cKNnBSe0GVTR",
        "outputId": "8a800ceb-061e-49dc-8421-846f05155144"
      },
      "source": [
        "# Applying lower_case_style\n",
        "df_1.columns = [i.replace(' ', '_').lower() for i in df_1.columns] \n",
        "df_1.head(3)"
      ],
      "execution_count": 85,
      "outputs": [
        {
          "output_type": "execute_result",
          "data": {
            "text/html": [
              "<div>\n",
              "<style scoped>\n",
              "    .dataframe tbody tr th:only-of-type {\n",
              "        vertical-align: middle;\n",
              "    }\n",
              "\n",
              "    .dataframe tbody tr th {\n",
              "        vertical-align: top;\n",
              "    }\n",
              "\n",
              "    .dataframe thead th {\n",
              "        text-align: right;\n",
              "    }\n",
              "</style>\n",
              "<table border=\"1\" class=\"dataframe\">\n",
              "  <thead>\n",
              "    <tr style=\"text-align: right;\">\n",
              "      <th></th>\n",
              "      <th>year</th>\n",
              "      <th>county</th>\n",
              "      <th>hospital</th>\n",
              "      <th>oshpdid</th>\n",
              "      <th>surgery</th>\n",
              "      <th>latitude</th>\n",
              "      <th>longitude</th>\n",
              "      <th>cases</th>\n",
              "      <th>bladder</th>\n",
              "      <th>brain</th>\n",
              "      <th>breast</th>\n",
              "      <th>bladder</th>\n",
              "      <th>brain</th>\n",
              "      <th>breast</th>\n",
              "      <th>colon</th>\n",
              "      <th>colon</th>\n",
              "      <th>esophagus</th>\n",
              "      <th>esophagus</th>\n",
              "      <th>liver</th>\n",
              "      <th>lung</th>\n",
              "      <th>liver</th>\n",
              "      <th>lung</th>\n",
              "      <th>pancreas</th>\n",
              "      <th>prostate</th>\n",
              "      <th>pancreas</th>\n",
              "      <th>prostate</th>\n",
              "      <th>rectum</th>\n",
              "      <th>rectum</th>\n",
              "      <th>stomach</th>\n",
              "      <th>stomach</th>\n",
              "    </tr>\n",
              "  </thead>\n",
              "  <tbody>\n",
              "    <tr>\n",
              "      <th>11</th>\n",
              "      <td>2013</td>\n",
              "      <td>Alameda</td>\n",
              "      <td>Alameda Hospital</td>\n",
              "      <td>106010735.0</td>\n",
              "      <td>STOMACH</td>\n",
              "      <td>37.762953</td>\n",
              "      <td>-122.25362</td>\n",
              "      <td>1.0</td>\n",
              "      <td>0</td>\n",
              "      <td>0</td>\n",
              "      <td>0</td>\n",
              "      <td>0</td>\n",
              "      <td>0</td>\n",
              "      <td>0</td>\n",
              "      <td>0</td>\n",
              "      <td>0</td>\n",
              "      <td>0</td>\n",
              "      <td>0</td>\n",
              "      <td>0</td>\n",
              "      <td>0</td>\n",
              "      <td>0</td>\n",
              "      <td>0</td>\n",
              "      <td>0</td>\n",
              "      <td>0</td>\n",
              "      <td>0</td>\n",
              "      <td>0</td>\n",
              "      <td>0</td>\n",
              "      <td>0</td>\n",
              "      <td>1</td>\n",
              "      <td>0</td>\n",
              "    </tr>\n",
              "    <tr>\n",
              "      <th>12</th>\n",
              "      <td>2013</td>\n",
              "      <td>Alameda</td>\n",
              "      <td>Alameda Hospital</td>\n",
              "      <td>106010735.0</td>\n",
              "      <td>COLON</td>\n",
              "      <td>37.762953</td>\n",
              "      <td>-122.25362</td>\n",
              "      <td>3.0</td>\n",
              "      <td>0</td>\n",
              "      <td>0</td>\n",
              "      <td>0</td>\n",
              "      <td>0</td>\n",
              "      <td>0</td>\n",
              "      <td>0</td>\n",
              "      <td>1</td>\n",
              "      <td>0</td>\n",
              "      <td>0</td>\n",
              "      <td>0</td>\n",
              "      <td>0</td>\n",
              "      <td>0</td>\n",
              "      <td>0</td>\n",
              "      <td>0</td>\n",
              "      <td>0</td>\n",
              "      <td>0</td>\n",
              "      <td>0</td>\n",
              "      <td>0</td>\n",
              "      <td>0</td>\n",
              "      <td>0</td>\n",
              "      <td>0</td>\n",
              "      <td>0</td>\n",
              "    </tr>\n",
              "    <tr>\n",
              "      <th>13</th>\n",
              "      <td>2013</td>\n",
              "      <td>Alameda</td>\n",
              "      <td>Alameda Hospital</td>\n",
              "      <td>106010735.0</td>\n",
              "      <td>BREAST</td>\n",
              "      <td>37.762953</td>\n",
              "      <td>-122.25362</td>\n",
              "      <td>2.0</td>\n",
              "      <td>0</td>\n",
              "      <td>0</td>\n",
              "      <td>1</td>\n",
              "      <td>0</td>\n",
              "      <td>0</td>\n",
              "      <td>0</td>\n",
              "      <td>0</td>\n",
              "      <td>0</td>\n",
              "      <td>0</td>\n",
              "      <td>0</td>\n",
              "      <td>0</td>\n",
              "      <td>0</td>\n",
              "      <td>0</td>\n",
              "      <td>0</td>\n",
              "      <td>0</td>\n",
              "      <td>0</td>\n",
              "      <td>0</td>\n",
              "      <td>0</td>\n",
              "      <td>0</td>\n",
              "      <td>0</td>\n",
              "      <td>0</td>\n",
              "      <td>0</td>\n",
              "    </tr>\n",
              "  </tbody>\n",
              "</table>\n",
              "</div>"
            ],
            "text/plain": [
              "    year   county          hospital  ...  rectum  stomach  stomach\n",
              "11  2013  Alameda  Alameda Hospital  ...       0        1        0\n",
              "12  2013  Alameda  Alameda Hospital  ...       0        0        0\n",
              "13  2013  Alameda  Alameda Hospital  ...       0        0        0\n",
              "\n",
              "[3 rows x 30 columns]"
            ]
          },
          "metadata": {},
          "execution_count": 85
        }
      ]
    }
  ]
}